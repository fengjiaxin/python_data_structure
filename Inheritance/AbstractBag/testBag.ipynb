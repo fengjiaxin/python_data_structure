{
 "cells": [
  {
   "cell_type": "code",
   "execution_count": 2,
   "metadata": {},
   "outputs": [],
   "source": [
    "from arraysortedbag import ArraySortedBag"
   ]
  },
  {
   "cell_type": "code",
   "execution_count": 3,
   "metadata": {},
   "outputs": [],
   "source": [
    "def test(bagType):\n",
    "    \"\"\"Expects a bag type as an argument and runs some tests\n",
    "    on objects of that type.\"\"\"\n",
    "    lyst = [2013, 61, 1973]\n",
    "    print(\"The list of items added is:\", lyst)\n",
    "    b1 = bagType(lyst)\n",
    "    print(\"Expect 3:\", len(b1))\n",
    "    print(\"Expect the bag's string:\", b1)\n",
    "    print(\"Expect True:\", 2013 in b1)\n",
    "    print(\"Expect False:\", 2012 in b1)\n",
    "    print(\"Expect the items on separate lines:\")\n",
    "    for item in b1:\n",
    "        print(item)\n",
    "    b1.clear()\n",
    "    print(\"Expect {}:\", b1)\n",
    "    b1.add(25)\n",
    "    b1.remove(25)\n",
    "    print(\"Expect {}:\", b1)\n",
    "    b1 = bagType(lyst)\n",
    "    b2 = bagType(b1)\n",
    "    print(\"Expect True:\", b1 == b2)\n",
    "    print(\"Expect False:\", b1 is b2)\n",
    "    print(\"Expect two of each item:\", b1 + b2)\n",
    "    for item in lyst:\n",
    "        b1.remove(item)\n",
    "    print(\"Expect {}:\", b1)\n",
    "    print(\"Expect crash with KeyError:\")\n",
    "    b2.remove(99)"
   ]
  },
  {
   "cell_type": "code",
   "execution_count": 4,
   "metadata": {},
   "outputs": [
    {
     "name": "stdout",
     "output_type": "stream",
     "text": [
      "The list of items added is: [2013, 61, 1973]\n",
      "Expect 3: 3\n",
      "Expect the bag's string: {61, 1973, 2013}\n",
      "Expect True: True\n",
      "Expect False: False\n",
      "Expect the items on separate lines:\n",
      "61\n",
      "1973\n",
      "2013\n",
      "Expect {}: {}\n",
      "Expect {}: {}\n",
      "Expect True: True\n",
      "Expect False: False\n",
      "Expect two of each item: {61, 61, 1973, 1973, 2013, 2013}\n",
      "Expect {}: {}\n",
      "Expect crash with KeyError:\n"
     ]
    },
    {
     "ename": "KeyError",
     "evalue": "'99 not in bag'",
     "output_type": "error",
     "traceback": [
      "\u001b[1;31m---------------------------------------------------------------------------\u001b[0m",
      "\u001b[1;31mKeyError\u001b[0m                                  Traceback (most recent call last)",
      "\u001b[1;32m<ipython-input-4-ac63f4d47395>\u001b[0m in \u001b[0;36m<module>\u001b[1;34m()\u001b[0m\n\u001b[1;32m----> 1\u001b[1;33m \u001b[0mtest\u001b[0m\u001b[1;33m(\u001b[0m\u001b[0mArraySortedBag\u001b[0m\u001b[1;33m)\u001b[0m\u001b[1;33m\u001b[0m\u001b[0m\n\u001b[0m",
      "\u001b[1;32m<ipython-input-3-402038368532>\u001b[0m in \u001b[0;36mtest\u001b[1;34m(bagType)\u001b[0m\n\u001b[0;32m     26\u001b[0m     \u001b[0mprint\u001b[0m\u001b[1;33m(\u001b[0m\u001b[1;34m\"Expect {}:\"\u001b[0m\u001b[1;33m,\u001b[0m \u001b[0mb1\u001b[0m\u001b[1;33m)\u001b[0m\u001b[1;33m\u001b[0m\u001b[0m\n\u001b[0;32m     27\u001b[0m     \u001b[0mprint\u001b[0m\u001b[1;33m(\u001b[0m\u001b[1;34m\"Expect crash with KeyError:\"\u001b[0m\u001b[1;33m)\u001b[0m\u001b[1;33m\u001b[0m\u001b[0m\n\u001b[1;32m---> 28\u001b[1;33m     \u001b[0mb2\u001b[0m\u001b[1;33m.\u001b[0m\u001b[0mremove\u001b[0m\u001b[1;33m(\u001b[0m\u001b[1;36m99\u001b[0m\u001b[1;33m)\u001b[0m\u001b[1;33m\u001b[0m\u001b[0m\n\u001b[0m",
      "\u001b[1;32mF:\\python_project\\python_data_structure_test\\Inheritance\\AbstractBag\\arraybag.py\u001b[0m in \u001b[0;36mremove\u001b[1;34m(self, item)\u001b[0m\n\u001b[0;32m     31\u001b[0m     \u001b[1;32mdef\u001b[0m \u001b[0mremove\u001b[0m\u001b[1;33m(\u001b[0m\u001b[0mself\u001b[0m\u001b[1;33m,\u001b[0m\u001b[0mitem\u001b[0m\u001b[1;33m)\u001b[0m\u001b[1;33m:\u001b[0m\u001b[1;33m\u001b[0m\u001b[0m\n\u001b[0;32m     32\u001b[0m         \u001b[1;32mif\u001b[0m \u001b[0mitem\u001b[0m \u001b[1;32mnot\u001b[0m \u001b[1;32min\u001b[0m \u001b[0mself\u001b[0m\u001b[1;33m:\u001b[0m\u001b[1;33m\u001b[0m\u001b[0m\n\u001b[1;32m---> 33\u001b[1;33m             \u001b[1;32mraise\u001b[0m \u001b[0mKeyError\u001b[0m\u001b[1;33m(\u001b[0m\u001b[0mstr\u001b[0m\u001b[1;33m(\u001b[0m\u001b[0mitem\u001b[0m\u001b[1;33m)\u001b[0m \u001b[1;33m+\u001b[0m \u001b[1;34m' not in bag'\u001b[0m\u001b[1;33m)\u001b[0m\u001b[1;33m\u001b[0m\u001b[0m\n\u001b[0m\u001b[0;32m     34\u001b[0m         \u001b[0mtargetIndex\u001b[0m \u001b[1;33m=\u001b[0m \u001b[1;36m0\u001b[0m\u001b[1;33m\u001b[0m\u001b[0m\n\u001b[0;32m     35\u001b[0m         \u001b[1;32mfor\u001b[0m \u001b[0mtargetItem\u001b[0m \u001b[1;32min\u001b[0m \u001b[0mself\u001b[0m\u001b[1;33m:\u001b[0m\u001b[1;33m\u001b[0m\u001b[0m\n",
      "\u001b[1;31mKeyError\u001b[0m: '99 not in bag'"
     ]
    }
   ],
   "source": [
    "test(ArraySortedBag)"
   ]
  },
  {
   "cell_type": "code",
   "execution_count": null,
   "metadata": {},
   "outputs": [],
   "source": []
  }
 ],
 "metadata": {
  "kernelspec": {
   "display_name": "Python 3",
   "language": "python",
   "name": "python3"
  },
  "language_info": {
   "codemirror_mode": {
    "name": "ipython",
    "version": 3
   },
   "file_extension": ".py",
   "mimetype": "text/x-python",
   "name": "python",
   "nbconvert_exporter": "python",
   "pygments_lexer": "ipython3",
   "version": "3.6.4"
  }
 },
 "nbformat": 4,
 "nbformat_minor": 2
}

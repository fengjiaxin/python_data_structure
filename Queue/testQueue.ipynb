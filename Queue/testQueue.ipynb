{
 "cells": [
  {
   "cell_type": "code",
   "execution_count": 1,
   "metadata": {},
   "outputs": [],
   "source": [
    "from arrayQueue import ArrayQueue"
   ]
  },
  {
   "cell_type": "code",
   "execution_count": 2,
   "metadata": {},
   "outputs": [],
   "source": [
    "def test(stackType):\n",
    "    # Test any implementation with same code\n",
    "    s = stackType()\n",
    "    print(\"Length:\", len(s))\n",
    "    print(\"Empty:\", s.isEmpty())\n",
    "    print(\"Push 1-10\")\n",
    "    for i in range(10):\n",
    "        s.add(i + 1)\n",
    "    print(\"Peeking:\", s.peek())\n",
    "    print(\"Items (bottom to top):\",  s)\n",
    "    print(\"Length:\", len(s))\n",
    "    print(\"Empty:\", s.isEmpty())\n",
    "    theClone = stackType(s)\n",
    "    print(\"Items in clone (bottom to top):\",  theClone)\n",
    "    theClone.clear()\n",
    "\n",
    "    print(\"Length of clone after clear:\",  len(theClone))\n",
    "\n",
    "    print(\"Push 11\")\n",
    "    s.add(11)\n",
    "    print(\"Popping items (top to bottom): \", end=\"\")\n",
    "    while not s.isEmpty(): print(s.pop(), end=\" \")\n",
    "    print(\"\\nLength:\", len(s))\n",
    "    print(\"Empty:\", s.isEmpty())"
   ]
  },
  {
   "cell_type": "code",
   "execution_count": 3,
   "metadata": {},
   "outputs": [
    {
     "name": "stdout",
     "output_type": "stream",
     "text": [
      "Length: 0\n",
      "Empty: True\n",
      "Push 1-10\n",
      "Peeking: 1\n",
      "Items (bottom to top): [1, 2, 3, 4, 5, 6, 7, 8, 9, 10]\n",
      "Length: 10\n",
      "Empty: False\n",
      "Items in clone (bottom to top): [1, 2, 3, 4, 5, 6, 7, 8, 9, 10]\n",
      "Length of clone after clear: 0\n",
      "Push 11\n",
      "Popping items (top to bottom): 1 2 3 4 5 6 7 8 9 10 11 \n",
      "Length: 0\n",
      "Empty: True\n"
     ]
    }
   ],
   "source": [
    "test(ArrayQueue)"
   ]
  },
  {
   "cell_type": "code",
   "execution_count": 4,
   "metadata": {},
   "outputs": [],
   "source": [
    "from linkedQueue import LinkedQueue"
   ]
  },
  {
   "cell_type": "code",
   "execution_count": 5,
   "metadata": {},
   "outputs": [
    {
     "name": "stdout",
     "output_type": "stream",
     "text": [
      "Length: 0\n",
      "Empty: True\n",
      "Push 1-10\n",
      "Peeking: 1\n",
      "Items (bottom to top): [1, 2, 3, 4, 5, 6, 7, 8, 9, 10]\n",
      "Length: 10\n",
      "Empty: False\n",
      "Items in clone (bottom to top): [1, 2, 3, 4, 5, 6, 7, 8, 9, 10]\n",
      "Length of clone after clear: 10\n",
      "Push 11\n",
      "Popping items (top to bottom): 1 2 3 4 5 6 7 8 9 10 11 \n",
      "Length: 0\n",
      "Empty: True\n"
     ]
    }
   ],
   "source": [
    "test(LinkedQueue)"
   ]
  },
  {
   "cell_type": "code",
   "execution_count": null,
   "metadata": {},
   "outputs": [],
   "source": []
  }
 ],
 "metadata": {
  "kernelspec": {
   "display_name": "Python 3",
   "language": "python",
   "name": "python3"
  },
  "language_info": {
   "codemirror_mode": {
    "name": "ipython",
    "version": 3
   },
   "file_extension": ".py",
   "mimetype": "text/x-python",
   "name": "python",
   "nbconvert_exporter": "python",
   "pygments_lexer": "ipython3",
   "version": "3.6.4"
  }
 },
 "nbformat": 4,
 "nbformat_minor": 2
}
